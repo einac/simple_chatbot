{
  "nbformat": 4,
  "nbformat_minor": 0,
  "metadata": {
    "colab": {
      "name": "chatbot.ipynb",
      "provenance": [],
      "collapsed_sections": [],
      "machine_shape": "hm"
    },
    "kernelspec": {
      "name": "python3",
      "display_name": "Python 3"
    },
    "language_info": {
      "name": "python"
    },
    "accelerator": "GPU",
    "gpuClass": "standard"
  },
  "cells": [
    {
      "cell_type": "code",
      "execution_count": 1,
      "metadata": {
        "id": "4yQt-ZNX325o"
      },
      "outputs": [],
      "source": [
        "import nltk\n",
        "import numpy as np\n",
        "import random\n",
        "import string"
      ]
    },
    {
      "cell_type": "code",
      "source": [
        "f=open('chatbot.txt','r',errors = 'ignore')\n",
        "raw=f.read()\n",
        "raw=raw.lower()# küçük harflere dönüştürme\n",
        "\n",
        "nltk.download('punkt') # sadece ilk seferde kullanılır.\n",
        "nltk.download('wordnet') # sadece ilk seferde kullanılır.\n",
        "\n",
        "sent_tokens = nltk.sent_tokenize(raw)# cümleler dizisine dönüştürme\n",
        "word_tokens = nltk.word_tokenize(raw)# kelimeler dizisine dönüştürme\n"
      ],
      "metadata": {
        "colab": {
          "base_uri": "https://localhost:8080/"
        },
        "id": "Ep1VKps-3_7x",
        "outputId": "11f9519d-feac-4d48-a11e-e9ecd89dfcc7"
      },
      "execution_count": 4,
      "outputs": [
        {
          "output_type": "stream",
          "name": "stderr",
          "text": [
            "[nltk_data] Downloading package punkt to /root/nltk_data...\n",
            "[nltk_data]   Unzipping tokenizers/punkt.zip.\n",
            "[nltk_data] Downloading package wordnet to /root/nltk_data...\n"
          ]
        }
      ]
    },
    {
      "cell_type": "code",
      "source": [
        "sent_tokens[:2]"
      ],
      "metadata": {
        "colab": {
          "base_uri": "https://localhost:8080/"
        },
        "id": "56H2iQSf5YTM",
        "outputId": "9d6bcca7-3c70-4e1e-dd24-3dd377562b00"
      },
      "execution_count": 7,
      "outputs": [
        {
          "output_type": "execute_result",
          "data": {
            "text/plain": [
              "['merhaba arkadaşlar bu yazımda veri bilimi nedir, neden veri bilimi öğrenmeliyiz ve veri bilimi hangi aşamalardan oluşur bu konulara değineceğim.',\n",
              " 'veri bilimi nedir ?']"
            ]
          },
          "metadata": {},
          "execution_count": 7
        }
      ]
    },
    {
      "cell_type": "code",
      "source": [
        "word_tokens[:2]"
      ],
      "metadata": {
        "colab": {
          "base_uri": "https://localhost:8080/"
        },
        "id": "7qYnoocU5iU8",
        "outputId": "3052b33e-5169-4599-e0d0-a51154bac585"
      },
      "execution_count": 8,
      "outputs": [
        {
          "output_type": "execute_result",
          "data": {
            "text/plain": [
              "['merhaba', 'arkadaşlar']"
            ]
          },
          "metadata": {},
          "execution_count": 8
        }
      ]
    },
    {
      "cell_type": "code",
      "source": [
        "lemmer = nltk.stem.WordNetLemmatizer()\n",
        "\n",
        "def LemTokens(tokens):\n",
        "    return [lemmer.lemmatize(token) for token in tokens]\n",
        "\n",
        "remove_punct_dict = dict((ord(punct), None) for punct in string.punctuation)\n",
        "\n",
        "def LemNormalize(text):\n",
        "    return LemTokens(nltk.word_tokenize(text.lower().translate(remove_punct_dict)))"
      ],
      "metadata": {
        "id": "2Sa71XJV5jS-"
      },
      "execution_count": 9,
      "outputs": []
    },
    {
      "cell_type": "code",
      "source": [
        "GREETING_INPUTS = (\"merhaba\", \"selam\", \"merhabalar\", \"selamlar\", \"selamun aleykum\",\"hey\")\n",
        "GREETING_RESPONSES = [\"merhaba\", \"selam\", \"merhabalar\", \"selamlar\", \"aleykum selam\",\"hey\"]\n",
        "def greeting(sentence):\n",
        " \n",
        "    for word in sentence.split():\n",
        "        if word.lower() in GREETING_INPUTS:\n",
        "            return random.choice(GREETING_RESPONSES)"
      ],
      "metadata": {
        "id": "LkNxPpX56nQj"
      },
      "execution_count": 10,
      "outputs": []
    },
    {
      "cell_type": "code",
      "source": [
        "greeting(\"selam\")"
      ],
      "metadata": {
        "colab": {
          "base_uri": "https://localhost:8080/",
          "height": 35
        },
        "id": "ri4aYJX27ydr",
        "outputId": "792b6e9c-8b3e-4bfc-aa96-c4342d24af9d"
      },
      "execution_count": 15,
      "outputs": [
        {
          "output_type": "execute_result",
          "data": {
            "text/plain": [
              "'selamlar'"
            ],
            "application/vnd.google.colaboratory.intrinsic+json": {
              "type": "string"
            }
          },
          "metadata": {},
          "execution_count": 15
        }
      ]
    },
    {
      "cell_type": "code",
      "source": [
        "from sklearn.feature_extraction.text import TfidfVectorizer\n",
        "\n",
        "from sklearn.metrics.pairwise import cosine_similarity"
      ],
      "metadata": {
        "id": "w6Y24S7h71z4"
      },
      "execution_count": 16,
      "outputs": []
    },
    {
      "cell_type": "code",
      "source": [
        "def response(user_response):\n",
        "    robo_response=''\n",
        "    sent_tokens.append(user_response)\n",
        "    TfidfVec = TfidfVectorizer(tokenizer=LemNormalize, stop_words='english')\n",
        "    tfidf = TfidfVec.fit_transform(sent_tokens)\n",
        "    vals = cosine_similarity(tfidf[-1], tfidf)\n",
        "    idx=vals.argsort()[0][-2]\n",
        "    flat = vals.flatten()\n",
        "    flat.sort()\n",
        "    req_tfidf = flat[-2]\n",
        "    if(req_tfidf==0):\n",
        "        robo_response=robo_response+\"Üzgünüm, seni anlamıyorum !\"\n",
        "        return robo_response\n",
        "    else:\n",
        "        robo_response = robo_response+sent_tokens[idx]\n",
        "        return robo_response"
      ],
      "metadata": {
        "id": "EmGL1dVn9Ywy"
      },
      "execution_count": 18,
      "outputs": []
    },
    {
      "cell_type": "code",
      "source": [
        "flag=True\n",
        "print(\"Chatbot: Benim adım Chatbot. Senin chatbotlar hakkındaki sorgularını cevaplıyacağım. Çıkmak istiyorsan bay yazabilirsin.\")\n",
        "while(flag==True):\n",
        "    user_response = input()\n",
        "    user_response=user_response.lower()\n",
        "    if(user_response!='bay'):\n",
        "        if(user_response=='teşekkürler' or user_response=='teşekkür ederim' ):\n",
        "            flag=False\n",
        "            print(\"Chatbot: Rica ederim.\")\n",
        "        else:\n",
        "            if(greeting(user_response)!=None):\n",
        "                print(\"Chatbot: \"+greeting(user_response))\n",
        "            else:\n",
        "                print(\"Chatbot: \",end=\"\")\n",
        "                print(response(user_response))\n",
        "                sent_tokens.remove(user_response)\n",
        "    else:\n",
        "        flag=False\n",
        "        print(\"Chatbot: Bay! Kendine çok iyi bak, tekrar görüşmek üzere..\")"
      ],
      "metadata": {
        "colab": {
          "base_uri": "https://localhost:8080/"
        },
        "id": "NeVMQmGp-bNS",
        "outputId": "7cbf6f23-18bf-46cc-bf10-f83713770a0d"
      },
      "execution_count": 23,
      "outputs": [
        {
          "output_type": "stream",
          "name": "stdout",
          "text": [
            "Chatbot: Benim adım Chatbot. Senin chatbotlar hakkındaki sorgularını cevaplıyacağım. Çıkmak istiyorsan bay yazabilirsin.\n",
            "selam\n",
            "Chatbot: merhaba\n",
            "bay\n",
            "Chatbot: Bay! Kendine çok iyi bak, tekrar görüşmek üzere..\n"
          ]
        }
      ]
    },
    {
      "cell_type": "code",
      "source": [
        ""
      ],
      "metadata": {
        "id": "QHWSmk_z_OXp"
      },
      "execution_count": null,
      "outputs": []
    }
  ]
}